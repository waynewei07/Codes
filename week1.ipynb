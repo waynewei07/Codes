{
  "cells": [
    {
      "cell_type": "markdown",
      "metadata": {
        "id": "view-in-github",
        "colab_type": "text"
      },
      "source": [
        "<a href=\"https://colab.research.google.com/github/waynewei07/Codes/blob/main/week1.ipynb\" target=\"_parent\"><img src=\"https://colab.research.google.com/assets/colab-badge.svg\" alt=\"Open In Colab\"/></a>"
      ]
    },
    {
      "cell_type": "markdown",
      "metadata": {
        "id": "PIVqMpPehpbI"
      },
      "source": [
        "## 所有程式語言的第一步：「Hello World」\n",
        "\n",
        "幾乎所有程式語言的第一堂課都是「Hello World」，也會使用「Hello World」作為第一個範例。  \n",
        "為什麼是這句話呢？起源至今難以確認，不過倒是留下一些浪漫(可怕？)的傳說：  \n",
        "\n",
        "*希望所有的程式語言*  \n",
        "*或是說機器*  \n",
        "*都會對世界說hello*  \n",
        "*而不是terminated*  \n",
        "Python自然也不例外。"
      ]
    },
    {
      "cell_type": "markdown",
      "metadata": {
        "id": "EA41DTzghpbN"
      },
      "source": [
        "# `Print()` 函數\n",
        "在 Python 中，我們常常會需要將既有的數值輸出到電腦螢幕上，以便程式的測試等工作。這種時候，print() 函數就可以發揮它無比強大的功用。"
      ]
    },
    {
      "cell_type": "code",
      "execution_count": null,
      "metadata": {
        "colab": {
          "base_uri": "https://localhost:8080/"
        },
        "id": "4NhUC2WWhpbO",
        "outputId": "5dba7a1c-251f-4347-b24b-c755a8949160"
      },
      "outputs": [
        {
          "name": "stdout",
          "output_type": "stream",
          "text": [
            "3\n"
          ]
        }
      ],
      "source": [
        "print(3)"
      ]
    },
    {
      "cell_type": "code",
      "execution_count": null,
      "metadata": {
        "colab": {
          "base_uri": "https://localhost:8080/"
        },
        "id": "Sb6XZOeThpbQ",
        "outputId": "d45560e3-d9e6-4cbb-8452-2ff4c065274c"
      },
      "outputs": [
        {
          "name": "stdout",
          "output_type": "stream",
          "text": [
            "哈囉\n"
          ]
        }
      ],
      "source": [
        "print(\"哈囉\")"
      ]
    },
    {
      "cell_type": "markdown",
      "metadata": {
        "id": "4GjkGgVlhpbR"
      },
      "source": [
        "在 print() 函數中，用逗號將要印出的東西分開，Python 將會自動將各個變數連結起來並印出："
      ]
    },
    {
      "cell_type": "code",
      "execution_count": null,
      "metadata": {
        "colab": {
          "base_uri": "https://localhost:8080/"
        },
        "id": "eRsFevhuhpbS",
        "outputId": "d67f0928-c0b7-463a-f253-9451678dab8e"
      },
      "outputs": [
        {
          "name": "stdout",
          "output_type": "stream",
          "text": [
            "Hello World !\n"
          ]
        }
      ],
      "source": [
        "print(\"Hello\", \"World\", \"!\")"
      ]
    },
    {
      "cell_type": "code",
      "execution_count": null,
      "metadata": {
        "colab": {
          "base_uri": "https://localhost:8080/"
        },
        "id": "o6H08BUShpbS",
        "outputId": "2bfe20e4-6117-4446-eeb9-263cb32e4c80"
      },
      "outputs": [
        {
          "name": "stdout",
          "output_type": "stream",
          "text": [
            "total cost: 50.5\n"
          ]
        }
      ],
      "source": [
        "print(\"total cost:\", 50.5)"
      ]
    },
    {
      "cell_type": "markdown",
      "metadata": {
        "id": "iGgpOknqhpbU"
      },
      "source": [
        "### sep 參數\n",
        "\n",
        "我們可以從上面的例子看到，Python 自動在 Hello 與 World 兩個字中間加入了一個空格。那如果今天不使用空格將兩個字分開呢？如果現在我們想要用「|」來分隔兩個變數，那麼我們可以寫："
      ]
    },
    {
      "cell_type": "code",
      "execution_count": null,
      "metadata": {
        "colab": {
          "base_uri": "https://localhost:8080/"
        },
        "id": "MD_WLZ-5hpbV",
        "outputId": "13edb652-87ba-470f-acd4-7de9b71139a8"
      },
      "outputs": [
        {
          "name": "stdout",
          "output_type": "stream",
          "text": [
            "Hello44World\n"
          ]
        }
      ],
      "source": [
        "print(\"Hello\", \"World\", sep=\"44\")"
      ]
    },
    {
      "cell_type": "markdown",
      "metadata": {
        "id": "rGZc4vhfhpbW"
      },
      "source": [
        "### end 參數\n",
        "\n",
        "除了 sep 參數之外，end 也是一個 print() 時常常使用的參數。假設今天我想要將每個 print() 的結尾處加上一個逗號「.」，我們可以這樣寫：\n"
      ]
    },
    {
      "cell_type": "code",
      "execution_count": null,
      "metadata": {
        "colab": {
          "base_uri": "https://localhost:8080/"
        },
        "id": "Zfo7irJMhpbX",
        "outputId": "c9424e4c-43d5-4aab-bc27-2458a8ebc5c3"
      },
      "outputs": [
        {
          "name": "stdout",
          "output_type": "stream",
          "text": [
            "Hello.World."
          ]
        }
      ],
      "source": [
        "print(\"Hello\", end=\".\")\n",
        "print(\"World\", end=\".\")"
      ]
    },
    {
      "cell_type": "code",
      "execution_count": null,
      "metadata": {
        "colab": {
          "base_uri": "https://localhost:8080/"
        },
        "id": "wKnwcKgshpbX",
        "outputId": "bf690278-27e3-4036-a439-68c8ef4e5f8d"
      },
      "outputs": [
        {
          "name": "stdout",
          "output_type": "stream",
          "text": [
            "Hello.\n",
            "World#this is Kevin."
          ]
        }
      ],
      "source": [
        "print(\"Hello\", end=\".\\n\")\n",
        "print(\"World\", \"this is Kevin\", sep=\"#\", end=\".\")"
      ]
    },
    {
      "cell_type": "markdown",
      "metadata": {
        "id": "2ALzhKsshpbY"
      },
      "source": [
        "---"
      ]
    },
    {
      "cell_type": "markdown",
      "metadata": {
        "id": "nK4Jft95hpbY"
      },
      "source": [
        "### 跳脫字元\n",
        "在 Python 中，使用單引號（'）或雙引號（\"）包起來的資料都是字串。然而，如果需要印出單引號或某些符號時，則必須以 \\ 來跳脫（escape）處理，避免被誤認為字串結束。"
      ]
    },
    {
      "cell_type": "code",
      "execution_count": null,
      "metadata": {
        "colab": {
          "base_uri": "https://localhost:8080/"
        },
        "id": "FxQOkNNthpbZ",
        "outputId": "aafb7f6c-231d-4471-c66d-b1e882a0f3d2"
      },
      "outputs": [
        {
          "name": "stdout",
          "output_type": "stream",
          "text": [
            "I'm Eric. He said Good Morning.\n"
          ]
        }
      ],
      "source": [
        "print(\"I'm Eric. He said Good Morning.\")\n"
      ]
    },
    {
      "cell_type": "code",
      "execution_count": null,
      "metadata": {
        "colab": {
          "base_uri": "https://localhost:8080/"
        },
        "id": "DPt8Js1AuRln",
        "outputId": "528109c7-6d3e-48d5-c85d-bcf9228d41f2"
      },
      "outputs": [
        {
          "name": "stdout",
          "output_type": "stream",
          "text": [
            "Help on built-in function print in module builtins:\n",
            "\n",
            "print(...)\n",
            "    print(value, ..., sep=' ', end='\\n', file=sys.stdout, flush=False)\n",
            "    \n",
            "    Prints the values to a stream, or to sys.stdout by default.\n",
            "    Optional keyword arguments:\n",
            "    file:  a file-like object (stream); defaults to the current sys.stdout.\n",
            "    sep:   string inserted between values, default a space.\n",
            "    end:   string appended after the last value, default a newline.\n",
            "    flush: whether to forcibly flush the stream.\n",
            "\n"
          ]
        }
      ],
      "source": [
        "help(print)"
      ]
    },
    {
      "cell_type": "code",
      "execution_count": null,
      "metadata": {
        "colab": {
          "base_uri": "https://localhost:8080/"
        },
        "id": "q-yAl7-FhpbZ",
        "outputId": "57edfac3-9b31-4016-def2-c1d2c26ce8d9"
      },
      "outputs": [
        {
          "name": "stdout",
          "output_type": "stream",
          "text": [
            "I'm Eric.\n"
          ]
        }
      ],
      "source": [
        "print('I\\'m Eric.')"
      ]
    },
    {
      "cell_type": "markdown",
      "metadata": {
        "id": "PT7TeAFThpba"
      },
      "source": [
        "**常見的跳脫字元：**  \n",
        "\\\\\\ 反斜線符號 (\\)  \n",
        "\\\\' 單引號 (')  \n",
        "\\\\\" 雙引號 (\")  \n",
        "\\\\b 空格符號  \n",
        "\\\\f 換⾴符號  \n",
        "\\\\n 換⾏符號  \n",
        "\\\\r 返回符號  \n",
        "\\\\t ⽔平縮排符號 (TAB)"
      ]
    },
    {
      "cell_type": "markdown",
      "metadata": {
        "id": "vLi32pGWhpba"
      },
      "source": [
        "---"
      ]
    },
    {
      "cell_type": "markdown",
      "metadata": {
        "id": "pnR1feBHhpba"
      },
      "source": [
        "# Values and types"
      ]
    },
    {
      "cell_type": "markdown",
      "metadata": {
        "id": "PQrTpdR3hpba"
      },
      "source": [
        "### **資料值 (Value)**\n",
        "- 資料值是程式處理的基礎項目之一\n",
        "- 例如：整數 5 或字串 'Hello world'"
      ]
    },
    {
      "cell_type": "markdown",
      "metadata": {
        "id": "0mxplg3dhpbb"
      },
      "source": [
        "### **基本資料型態 (Data Type)：不同的資料值屬於不同的資料型態**\n",
        "- 整數 (Integer)：例如 5\n",
        "- 浮點數 (Floating point, Float)：亦即「實數」，因小數點可以浮動，因此稱為浮點數\n",
        "     - 3.2, 8.9\n",
        "- 字串(String): 由一連串的字元組成，並且由兩個單引號或雙引號所包含\n",
        "    - 'Hello world', '17', '3.2', \"這是一個字串\", '這也是一個字串'\n",
        "- 布林(Boolean): 只有兩個值，「真」(True) 與「偽」(False)\n",
        "- List: 列表是（不同的）資料型別的元素的有序序列。你可以使用方括號 [] 建立列表，並在方括號內使用逗號分隔列表項。\n",
        "    - [1, 2, 3], ['the', 'clown', 'ran', 'after', 'the', 'car']\n",
        "    - list()可以把其他data structure(tuple, set)轉為list"
      ]
    },
    {
      "cell_type": "code",
      "execution_count": null,
      "metadata": {
        "colab": {
          "base_uri": "https://localhost:8080/"
        },
        "id": "dCq2RAfGhpbb",
        "outputId": "4396833a-1c21-40bc-9f18-96ad69d16b54"
      },
      "outputs": [
        {
          "data": {
            "text/plain": [
              "int"
            ]
          },
          "execution_count": 3,
          "metadata": {},
          "output_type": "execute_result"
        }
      ],
      "source": [
        "type(17)"
      ]
    },
    {
      "cell_type": "code",
      "execution_count": null,
      "metadata": {
        "colab": {
          "base_uri": "https://localhost:8080/"
        },
        "id": "Ruf6XndIhpbb",
        "outputId": "ddbc7578-4029-4069-e495-2bbed6e98a96"
      },
      "outputs": [
        {
          "data": {
            "text/plain": [
              "str"
            ]
          },
          "execution_count": 4,
          "metadata": {},
          "output_type": "execute_result"
        }
      ],
      "source": [
        "type('\"duck\"不必')"
      ]
    },
    {
      "cell_type": "code",
      "execution_count": null,
      "metadata": {
        "colab": {
          "base_uri": "https://localhost:8080/"
        },
        "id": "7saxEgLlhpbc",
        "outputId": "5a053634-3144-4f9e-dd2f-7825dccafa47"
      },
      "outputs": [
        {
          "data": {
            "text/plain": [
              "float"
            ]
          },
          "execution_count": 5,
          "metadata": {},
          "output_type": "execute_result"
        }
      ],
      "source": [
        "type(3.2)"
      ]
    },
    {
      "cell_type": "code",
      "execution_count": null,
      "metadata": {
        "colab": {
          "base_uri": "https://localhost:8080/"
        },
        "id": "VAWT2p84hpbc",
        "outputId": "c7ebae4a-94c4-4f21-d8c8-e72691843889"
      },
      "outputs": [
        {
          "data": {
            "text/plain": [
              "bool"
            ]
          },
          "execution_count": 26,
          "metadata": {},
          "output_type": "execute_result"
        }
      ],
      "source": [
        "type(True)"
      ]
    },
    {
      "cell_type": "code",
      "execution_count": null,
      "metadata": {
        "colab": {
          "base_uri": "https://localhost:8080/"
        },
        "id": "n64NUeK7hpbc",
        "outputId": "d7e208fa-ad19-4beb-c92b-d9f83cc0ea3e"
      },
      "outputs": [
        {
          "data": {
            "text/plain": [
              "list"
            ]
          },
          "execution_count": 27,
          "metadata": {},
          "output_type": "execute_result"
        }
      ],
      "source": [
        "type([2, 4.5, \"blue\"])"
      ]
    },
    {
      "cell_type": "code",
      "execution_count": null,
      "metadata": {
        "colab": {
          "base_uri": "https://localhost:8080/",
          "height": 35
        },
        "id": "ZraYLUKXKOzo",
        "outputId": "f3b0a96d-69ef-4021-aadd-f97a38d2ea34"
      },
      "outputs": [
        {
          "data": {
            "application/vnd.google.colaboratory.intrinsic+json": {
              "type": "string"
            },
            "text/plain": [
              "'a'"
            ]
          },
          "execution_count": 6,
          "metadata": {},
          "output_type": "execute_result"
        }
      ],
      "source": [
        "\"abc\"[0]"
      ]
    },
    {
      "cell_type": "code",
      "execution_count": null,
      "metadata": {
        "colab": {
          "base_uri": "https://localhost:8080/"
        },
        "id": "-rgbTolf0qPO",
        "outputId": "4e1fa82a-a2e8-4171-96e2-d1915a4b8888"
      },
      "outputs": [
        {
          "name": "stdout",
          "output_type": "stream",
          "text": [
            "u\n"
          ]
        }
      ],
      "source": [
        "print([2, 4.5, \"blue\"][2][2])"
      ]
    },
    {
      "cell_type": "markdown",
      "metadata": {
        "id": "1oZo8_b8hpbc"
      },
      "source": [
        "### 取出字串部分內容："
      ]
    },
    {
      "cell_type": "code",
      "execution_count": null,
      "metadata": {
        "colab": {
          "base_uri": "https://localhost:8080/"
        },
        "id": "eK9dGEx2hpbd",
        "outputId": "bf99ef8c-9498-45b7-f487-a7232b7866b8"
      },
      "outputs": [
        {
          "name": "stdout",
          "output_type": "stream",
          "text": [
            "a\n"
          ]
        }
      ],
      "source": [
        "print('abc'[0])"
      ]
    },
    {
      "cell_type": "code",
      "execution_count": null,
      "metadata": {
        "colab": {
          "base_uri": "https://localhost:8080/"
        },
        "id": "NzPBy2HKhpbd",
        "outputId": "4439e334-1013-46a6-a5bb-c474d365a8df"
      },
      "outputs": [
        {
          "name": "stdout",
          "output_type": "stream",
          "text": [
            "cde\n"
          ]
        }
      ],
      "source": [
        "print('abcdefg'[2:5])\n"
      ]
    },
    {
      "cell_type": "markdown",
      "metadata": {
        "id": "8GJBw0UYhpbd"
      },
      "source": [
        "---"
      ]
    },
    {
      "cell_type": "code",
      "execution_count": null,
      "metadata": {
        "colab": {
          "base_uri": "https://localhost:8080/"
        },
        "id": "1EccqHf9hpbd",
        "outputId": "d87557e0-2e52-4b96-d0a2-639a69a858e2"
      },
      "outputs": [
        {
          "name": "stdout",
          "output_type": "stream",
          "text": [
            "['a', 'b', 'c']\n"
          ]
        }
      ],
      "source": [
        "# string to list\n",
        "print(list('abc'))"
      ]
    },
    {
      "cell_type": "code",
      "execution_count": null,
      "metadata": {
        "id": "0jGBIiePhpbe",
        "outputId": "1f86669e-5a09-4faa-ff79-e2e5b1ebe815"
      },
      "outputs": [
        {
          "data": {
            "text/plain": [
              "list"
            ]
          },
          "execution_count": 86,
          "metadata": {},
          "output_type": "execute_result"
        }
      ],
      "source": [
        "type(list('abc'))"
      ]
    },
    {
      "cell_type": "markdown",
      "metadata": {
        "id": "YdT3KrPihpbe"
      },
      "source": [
        "---"
      ]
    },
    {
      "cell_type": "markdown",
      "metadata": {
        "id": "wNX8OHU7hpbe"
      },
      "source": [
        "# Variables 變數"
      ]
    },
    {
      "cell_type": "markdown",
      "metadata": {
        "id": "_79UwjByhpbe"
      },
      "source": [
        "- 數學：變數是代表要求解的未知符號，例如x和y\n",
        "- 程式設計：變數的用途是儲存資料，並不是未知數。"
      ]
    },
    {
      "cell_type": "markdown",
      "metadata": {
        "id": "q2Mjf_Mkhpbe"
      },
      "source": [
        "變數是具有名稱和值 (Value) 的記憶體位置。  \n",
        "變數需有唯一的名稱, 以便來區分不同的記憶體位置。\n",
        "\n",
        "在 Python 中, 在使用該變數之前不需要宣告變數 (指定資料型別)。  \n",
        "如果要新建變數, 只需賦予該變數一個有效的名稱, 並使用賦值運算子`=`為其賦值。  \n",
        "變數的資料型別將根據分配給它的值的型別自動來定義。"
      ]
    },
    {
      "cell_type": "markdown",
      "metadata": {
        "id": "9M5XcBfyhpbf"
      },
      "source": [
        "**Assignment statement : 可以建立新的變數(Variable)，並設定其值(Value)，語法如下:**\n",
        "\n",
        "**`<variable> = <expr>`**\n",
        "- variable ：變數名稱，是一個識別字\n",
        "- expr ：表示式，可以是一個值或一個運算式"
      ]
    },
    {
      "cell_type": "code",
      "execution_count": null,
      "metadata": {
        "id": "uLf_khjkhpbf"
      },
      "outputs": [],
      "source": [
        "# Assignment statements\n",
        "message = 'And now for something completely different'\n",
        "n = 17\n",
        "pi = 3.1415926535897932"
      ]
    },
    {
      "cell_type": "markdown",
      "metadata": {
        "id": "ivhCI0EBhpbf"
      },
      "source": [
        "變數的type就是變數值的type :"
      ]
    },
    {
      "cell_type": "code",
      "execution_count": null,
      "metadata": {
        "colab": {
          "base_uri": "https://localhost:8080/"
        },
        "id": "l_BdjuFWhpbf",
        "outputId": "8f198713-1d61-4c1a-c43d-f395e3fb4238"
      },
      "outputs": [
        {
          "data": {
            "text/plain": [
              "str"
            ]
          },
          "execution_count": 34,
          "metadata": {},
          "output_type": "execute_result"
        }
      ],
      "source": [
        "type(message)"
      ]
    },
    {
      "cell_type": "code",
      "execution_count": null,
      "metadata": {
        "colab": {
          "base_uri": "https://localhost:8080/"
        },
        "id": "16x3PxSAhpbf",
        "outputId": "86042c4b-d177-4077-8a80-db5b90787324"
      },
      "outputs": [
        {
          "data": {
            "text/plain": [
              "int"
            ]
          },
          "execution_count": 35,
          "metadata": {},
          "output_type": "execute_result"
        }
      ],
      "source": [
        "type(n)"
      ]
    },
    {
      "cell_type": "code",
      "execution_count": null,
      "metadata": {
        "colab": {
          "base_uri": "https://localhost:8080/"
        },
        "id": "uSujPvBAhpbg",
        "outputId": "9ac88858-1f10-4397-cab2-89e2298ea108"
      },
      "outputs": [
        {
          "data": {
            "text/plain": [
              "float"
            ]
          },
          "execution_count": 36,
          "metadata": {},
          "output_type": "execute_result"
        }
      ],
      "source": [
        "type(pi)"
      ]
    },
    {
      "cell_type": "markdown",
      "metadata": {
        "id": "-eFX9ba9hpbg"
      },
      "source": [
        "---"
      ]
    },
    {
      "cell_type": "markdown",
      "metadata": {
        "id": "oGKhrqQ_hpbg"
      },
      "source": [
        "### List取值方式："
      ]
    },
    {
      "cell_type": "code",
      "execution_count": null,
      "metadata": {
        "id": "zEumxPYuhpbg"
      },
      "outputs": [],
      "source": [
        "a = [1, 2, 3, 4, 5]"
      ]
    },
    {
      "cell_type": "code",
      "execution_count": null,
      "metadata": {
        "colab": {
          "base_uri": "https://localhost:8080/"
        },
        "id": "p35f1VJ8hpbg",
        "outputId": "4745f18b-543d-456c-ba51-3a62b57f5356"
      },
      "outputs": [
        {
          "name": "stdout",
          "output_type": "stream",
          "text": [
            "[3, 4, 5]\n"
          ]
        }
      ],
      "source": [
        "print(a[2:])"
      ]
    },
    {
      "cell_type": "code",
      "execution_count": null,
      "metadata": {
        "colab": {
          "base_uri": "https://localhost:8080/"
        },
        "id": "iimf3NxThpbg",
        "outputId": "db99b4a1-22bb-4469-ab9a-4cc8f3a2dcbe"
      },
      "outputs": [
        {
          "name": "stdout",
          "output_type": "stream",
          "text": [
            "[2, 3]\n"
          ]
        }
      ],
      "source": [
        "print(a[1:3])"
      ]
    },
    {
      "cell_type": "code",
      "execution_count": null,
      "metadata": {
        "colab": {
          "base_uri": "https://localhost:8080/"
        },
        "id": "WC5e3t_4hpbh",
        "outputId": "e500efcd-aedd-4fe0-c517-8f97c388c993"
      },
      "outputs": [
        {
          "name": "stdout",
          "output_type": "stream",
          "text": [
            "[4, 5]\n"
          ]
        }
      ],
      "source": [
        "print(a[-2:])"
      ]
    },
    {
      "cell_type": "markdown",
      "metadata": {
        "id": "fvGSqbWuhpbh"
      },
      "source": [
        "---"
      ]
    },
    {
      "cell_type": "markdown",
      "metadata": {
        "id": "4fR5fO5Thpbh"
      },
      "source": [
        "Python 變數的特性: **動態資料型別**，只要Assignment statement的資料型態改變，變數的資料型態就改變"
      ]
    },
    {
      "cell_type": "code",
      "execution_count": null,
      "metadata": {
        "id": "N3_EAuWKhpbh"
      },
      "outputs": [],
      "source": [
        "pi = 'pi'"
      ]
    },
    {
      "cell_type": "code",
      "execution_count": null,
      "metadata": {
        "colab": {
          "base_uri": "https://localhost:8080/"
        },
        "id": "jth6oaUrhpbh",
        "outputId": "6a33534d-fe91-4bb0-f2e9-d1cf305cae3c"
      },
      "outputs": [
        {
          "data": {
            "text/plain": [
              "str"
            ]
          },
          "execution_count": 15,
          "metadata": {},
          "output_type": "execute_result"
        }
      ],
      "source": [
        "type(pi)"
      ]
    },
    {
      "cell_type": "markdown",
      "metadata": {
        "id": "QF4dALmjhpbi"
      },
      "source": [
        "---"
      ]
    },
    {
      "cell_type": "markdown",
      "metadata": {
        "id": "KIc1RwsGhpbi"
      },
      "source": [
        "# 變數命名規則"
      ]
    },
    {
      "cell_type": "markdown",
      "metadata": {
        "id": "WRnizAq5hpbi"
      },
      "source": [
        "- 以英文字母或底線開頭，之後可以接字母、數字、或底線，例如： phone, mobile_phone, mobilePhone, mobilePhone2, ...  \n",
        "- 英文字母大小寫有別 (Case-sensitive) ，因此 address, Address, aDDress, 與 ADDRESS 均為不同的識別字  \n",
        "- *建議依據 coding style 統一命名風格*"
      ]
    },
    {
      "cell_type": "code",
      "execution_count": null,
      "metadata": {
        "id": "Z4VB_jEWhpbi"
      },
      "outputs": [],
      "source": [
        "trombones76 = 'big parade'"
      ]
    },
    {
      "cell_type": "markdown",
      "metadata": {
        "id": "njInRoyahpbi"
      },
      "source": [
        "## [Python Keywords](https://realpython.com/python-keywords/)"
      ]
    },
    {
      "cell_type": "markdown",
      "metadata": {
        "id": "tU7X31lohpbi"
      },
      "source": [
        "Keywords 是具有特殊含義，而且不能用於命名任何變數、函式、類等的預先內部佔用的字元。  \n",
        "關鍵字也被稱為保留字，它們實際上是為 Python 的自身的功能保留的。"
      ]
    },
    {
      "cell_type": "code",
      "execution_count": null,
      "metadata": {
        "colab": {
          "base_uri": "https://localhost:8080/",
          "height": 132
        },
        "id": "IRxb469nhpbj",
        "outputId": "97fb8a2e-0af6-4048-fb5e-b3831d71ec3a"
      },
      "outputs": [
        {
          "ename": "SyntaxError",
          "evalue": "invalid syntax (527335060.py, line 1)",
          "output_type": "error",
          "traceback": [
            "\u001b[0;36m  Cell \u001b[0;32mIn[2], line 1\u001b[0;36m\u001b[0m\n\u001b[0;31m    return = 'Advanced Theoretical Zymurgy'\u001b[0m\n\u001b[0m           ^\u001b[0m\n\u001b[0;31mSyntaxError\u001b[0m\u001b[0;31m:\u001b[0m invalid syntax\n"
          ]
        }
      ],
      "source": [
        "return = 'Advanced Theoretical Zymurgy'"
      ]
    },
    {
      "cell_type": "markdown",
      "metadata": {
        "id": "kFkkafc1hpbj"
      },
      "source": [
        "---"
      ]
    },
    {
      "cell_type": "markdown",
      "metadata": {
        "id": "RWbn8DAxhpbj"
      },
      "source": [
        "## 運算子跟運算元 (Operators & Operands)\n",
        "- **<font size = \"4\">運算子 (Operators)**\n",
        "    <ol style=\"line-height:2.5\">  \n",
        "        <li>+</li>  \n",
        "        <li>-</li>  \n",
        "        <li>*</li>     \n",
        "        <li>/：除法，會有小數點，資料型別會變<b>浮點數</b> (float)</li>    \n",
        "        <li>//：整除，資料型別會是整數 (int)</li>  \n",
        "        <li>%：取餘數</li>  \n",
        "        <li>**：次方 (power), 跟使用 pow() 相同</li>\n",
        "    </ol>\n",
        "     \n",
        "- **<font size =\"4\">運算元 (Operands)**  \n",
        "   <div style=\"line-height:2.5\">\n",
        "   1 + 1 = 2  </br>\n",
        "   1 跟 2 都是 <b>運算元 (operands)</b>\n",
        "   </div>"
      ]
    },
    {
      "cell_type": "code",
      "execution_count": null,
      "metadata": {
        "colab": {
          "base_uri": "https://localhost:8080/"
        },
        "id": "n_Lm1H6Khpbj",
        "outputId": "3070d34f-5686-4d1c-e04d-645b392e8d7f"
      },
      "outputs": [
        {
          "name": "stdout",
          "output_type": "stream",
          "text": [
            "160\n"
          ]
        }
      ],
      "source": [
        "# 加法：計算總共花費金額\n",
        "chocolate = 80\n",
        "bubble_tea = 50\n",
        "cookies = 30\n",
        "\n",
        "total_price = chocolate + bubble_tea + cookies\n",
        "\n",
        "print(total_price)"
      ]
    },
    {
      "cell_type": "code",
      "execution_count": null,
      "metadata": {
        "colab": {
          "base_uri": "https://localhost:8080/"
        },
        "id": "vMGQsb-ehpbj",
        "outputId": "e8d5a0bb-f3f8-4a13-bb96-39a10726c0e0"
      },
      "outputs": [
        {
          "name": "stdout",
          "output_type": "stream",
          "text": [
            "130\n"
          ]
        }
      ],
      "source": [
        "# 減法：計算 Diane 花費的金額\n",
        "Diane_cost = total_price - cookies\n",
        "print(Diane_cost)"
      ]
    },
    {
      "cell_type": "code",
      "execution_count": null,
      "metadata": {
        "colab": {
          "base_uri": "https://localhost:8080/"
        },
        "id": "ZprlpVHhhpbk",
        "outputId": "b865385e-903f-4feb-f296-614238239988"
      },
      "outputs": [
        {
          "name": "stdout",
          "output_type": "stream",
          "text": [
            "150\n"
          ]
        }
      ],
      "source": [
        "# 乘法：計算三杯珍奶金額\n",
        "drinks = bubble_tea * 3\n",
        "print(drinks)"
      ]
    },
    {
      "cell_type": "code",
      "execution_count": null,
      "metadata": {
        "colab": {
          "base_uri": "https://localhost:8080/"
        },
        "id": "dv8_QQvAhpbk",
        "outputId": "afcfe77b-ffbd-42a2-e145-f70067110d28"
      },
      "outputs": [
        {
          "name": "stdout",
          "output_type": "stream",
          "text": [
            "180.0\n"
          ]
        }
      ],
      "source": [
        "# 除法：計算每個人午餐平均花費金額\n",
        "lunch_bill = 540\n",
        "lunch_per_person = lunch_bill / 3\n",
        "\n",
        "print(lunch_per_person)\n",
        "# print(type(lunch_per_person))"
      ]
    },
    {
      "cell_type": "code",
      "execution_count": null,
      "metadata": {
        "colab": {
          "base_uri": "https://localhost:8080/"
        },
        "id": "LBhiL28Jhpbk",
        "outputId": "8c0433ec-b948-4611-e989-44da18838dc6"
      },
      "outputs": [
        {
          "name": "stdout",
          "output_type": "stream",
          "text": [
            "0.0\n",
            "<class 'float'>\n"
          ]
        }
      ],
      "source": [
        "# 0 可以放在分母嗎？\n",
        "print(0 / 2)\n",
        "\n",
        "x=0\n",
        "y=0\n",
        "\n",
        "print(type(0 / 2))\n",
        "# 如果除以 0 會得到什麼？\n",
        "# print(0 / 0)"
      ]
    },
    {
      "cell_type": "code",
      "execution_count": null,
      "metadata": {
        "colab": {
          "base_uri": "https://localhost:8080/"
        },
        "id": "a_rRw0W2hpbk",
        "outputId": "75448f0a-cd86-4a3d-a9e7-5562f65c0d12"
      },
      "outputs": [
        {
          "name": "stdout",
          "output_type": "stream",
          "text": [
            "180\n",
            "<class 'int'>\n"
          ]
        }
      ],
      "source": [
        "# 整除：計算每個人晚餐花費金額\n",
        "dinner_bill = 540\n",
        "dinner_per_person = dinner_bill // 3\n",
        "\n",
        "print(dinner_per_person)\n",
        "print(type(dinner_per_person))\n",
        "# print(type(dinner_per_person))"
      ]
    },
    {
      "cell_type": "code",
      "execution_count": null,
      "metadata": {
        "colab": {
          "base_uri": "https://localhost:8080/"
        },
        "id": "smDXNBJ3hpbk",
        "outputId": "5fcc4d60-f01a-4936-bfd7-be9b08e1dd4b"
      },
      "outputs": [
        {
          "name": "stdout",
          "output_type": "stream",
          "text": [
            "3\n"
          ]
        }
      ],
      "source": [
        "# 取餘數\n",
        "num_toys = 29\n",
        "children = 13\n",
        "\n",
        "num_left = 29 % 13\n",
        "print(num_left)"
      ]
    },
    {
      "cell_type": "code",
      "execution_count": null,
      "metadata": {
        "colab": {
          "base_uri": "https://localhost:8080/"
        },
        "id": "pnKQmqAThpbk",
        "outputId": "27a1cfb6-9432-4ff1-830f-b72465fe5737"
      },
      "outputs": [
        {
          "name": "stdout",
          "output_type": "stream",
          "text": [
            "25\n",
            "25\n"
          ]
        }
      ],
      "source": [
        "# 次方計算：算正方形面積\n",
        "square_length = 5\n",
        "square_area = square_length ** 2\n",
        "\n",
        "power = pow(square_length, 2)\n",
        "\n",
        "print(square_area)\n",
        "print(power)"
      ]
    },
    {
      "cell_type": "code",
      "execution_count": null,
      "metadata": {
        "colab": {
          "base_uri": "https://localhost:8080/"
        },
        "id": "O2euxapIhpbk",
        "outputId": "a22fcdd4-f6e4-4d40-d5dc-e52c3ce9e032"
      },
      "outputs": [
        {
          "name": "stdout",
          "output_type": "stream",
          "text": [
            "254.46900060000002\n"
          ]
        }
      ],
      "source": [
        "# 次方結合乘法\n",
        "pi = 3.1415926\n",
        "radius = 9\n",
        "circle_area = radius ** 2 * pi\n",
        "\n",
        "print(circle_area)"
      ]
    },
    {
      "cell_type": "code",
      "execution_count": null,
      "metadata": {
        "colab": {
          "base_uri": "https://localhost:8080/",
          "height": 167
        },
        "id": "7JxCrTbHhpbk",
        "outputId": "053626ff-3f07-4aeb-afd3-3fb216bc21c3"
      },
      "outputs": [
        {
          "ename": "ZeroDivisionError",
          "evalue": "division by zero",
          "output_type": "error",
          "traceback": [
            "\u001b[0;31m---------------------------------------------------------------------------\u001b[0m",
            "\u001b[0;31mZeroDivisionError\u001b[0m                         Traceback (most recent call last)",
            "\u001b[1;32m/Users/irenehsu/Downloads/week1.ipynb 儲存格 74\u001b[0m line \u001b[0;36m1\n\u001b[0;32m----> <a href='vscode-notebook-cell:/Users/irenehsu/Downloads/week1.ipynb#Y133sZmlsZQ%3D%3D?line=0'>1</a>\u001b[0m \u001b[39m1\u001b[39;49m\u001b[39m/\u001b[39;49m\u001b[39m0\u001b[39;49m\n",
            "\u001b[0;31mZeroDivisionError\u001b[0m: division by zero"
          ]
        }
      ],
      "source": [
        "1/0"
      ]
    },
    {
      "cell_type": "markdown",
      "metadata": {
        "id": "80tPsNTfhpbl"
      },
      "source": [
        "---"
      ]
    },
    {
      "cell_type": "markdown",
      "metadata": {
        "id": "TO9489Vehpbl"
      },
      "source": [
        "## 正 / 負無窮大跟 NaN (Infiniy and Not a number)\n",
        "<ul style=\"line-height:2.5\">\n",
        "    <li>正 / 負無窮大</br>\n",
        "        若運算時無法確定仍為正 / 負無窮大，就會是 NaN</li>\n",
        "    <li>NaN 代表無法被表示的數值</br>\n",
        "        有 NaN 參與的運算結果一定也是 NaN</li>\n",
        "</ul>"
      ]
    },
    {
      "cell_type": "code",
      "execution_count": null,
      "metadata": {
        "colab": {
          "base_uri": "https://localhost:8080/"
        },
        "id": "Dgw1k96hhpbl",
        "outputId": "1a01538f-2d35-4750-c7cd-860759af72bb"
      },
      "outputs": [
        {
          "name": "stdout",
          "output_type": "stream",
          "text": [
            "正無窮大:  inf \n",
            "\n",
            "負無窮大:  -inf \n",
            "\n",
            "Not a number:  nan \n",
            "\n"
          ]
        }
      ],
      "source": [
        "pos_inf = float(\"inf\")\n",
        "print(\"正無窮大: \", pos_inf, \"\\n\")\n",
        "\n",
        "neg_inf = float(\"-inf\")\n",
        "print(\"負無窮大: \", neg_inf, \"\\n\")\n",
        "\n",
        "not_a_num = float('nan')\n",
        "print(\"Not a number: \", not_a_num, \"\\n\")"
      ]
    },
    {
      "cell_type": "code",
      "execution_count": null,
      "metadata": {
        "colab": {
          "base_uri": "https://localhost:8080/"
        },
        "id": "ht3rs9jChpbl",
        "outputId": "a2282d13-874a-4f4e-80a7-c0526a2c7fd5"
      },
      "outputs": [
        {
          "name": "stdout",
          "output_type": "stream",
          "text": [
            "正無窮大 * 0:  nan\n"
          ]
        }
      ],
      "source": [
        "print(\"正無窮大 * 0: \", pos_inf * 0)"
      ]
    },
    {
      "cell_type": "code",
      "execution_count": null,
      "metadata": {
        "colab": {
          "base_uri": "https://localhost:8080/"
        },
        "id": "x2_VWMC0hpbl",
        "outputId": "c359dd3d-51ab-43dc-b140-193a055cc1a7"
      },
      "outputs": [
        {
          "name": "stdout",
          "output_type": "stream",
          "text": [
            "正無窮大 - 負無窮大: inf\n"
          ]
        }
      ],
      "source": [
        "print(\"正無窮大 - 負無窮大:\", pos_inf - neg_inf)"
      ]
    },
    {
      "cell_type": "code",
      "execution_count": null,
      "metadata": {
        "colab": {
          "base_uri": "https://localhost:8080/"
        },
        "id": "lzHrA6CYhpbl",
        "outputId": "6fa25da8-7a9f-4dc2-86e1-2355d14b0947"
      },
      "outputs": [
        {
          "name": "stdout",
          "output_type": "stream",
          "text": [
            "正無窮大 + 負無窮大:  nan\n"
          ]
        }
      ],
      "source": [
        "print(\"正無窮大 + 負無窮大: \", pos_inf + neg_inf)"
      ]
    },
    {
      "cell_type": "code",
      "execution_count": null,
      "metadata": {
        "colab": {
          "base_uri": "https://localhost:8080/"
        },
        "id": "hpMN1TJZhpbl",
        "outputId": "a020a55b-b175-47da-96ec-b5ddeeb1c4c3"
      },
      "outputs": [
        {
          "name": "stdout",
          "output_type": "stream",
          "text": [
            "正無窮大 * 負無窮大:  -inf\n"
          ]
        }
      ],
      "source": [
        "print(\"正無窮大 * 負無窮大: \", pos_inf * neg_inf)"
      ]
    },
    {
      "cell_type": "code",
      "execution_count": null,
      "metadata": {
        "colab": {
          "base_uri": "https://localhost:8080/"
        },
        "id": "bK09G9Gwhpbm",
        "outputId": "5f3f8686-952f-4272-bf57-584d5dbc1c9f"
      },
      "outputs": [
        {
          "name": "stdout",
          "output_type": "stream",
          "text": [
            "正無窮大 / 負無窮大:  nan\n"
          ]
        }
      ],
      "source": [
        "print(\"正無窮大 / 負無窮大: \", pos_inf / neg_inf)"
      ]
    },
    {
      "cell_type": "code",
      "execution_count": null,
      "metadata": {
        "colab": {
          "base_uri": "https://localhost:8080/"
        },
        "id": "Af5OpPB_hpbm",
        "outputId": "0a2f572a-0f06-4d50-e8fc-56a11238f529"
      },
      "outputs": [
        {
          "name": "stdout",
          "output_type": "stream",
          "text": [
            "NaN * 0:  nan\n"
          ]
        }
      ],
      "source": [
        "print(\"NaN * 0: \", not_a_num * 0)"
      ]
    },
    {
      "cell_type": "code",
      "execution_count": null,
      "metadata": {
        "colab": {
          "base_uri": "https://localhost:8080/"
        },
        "id": "g-RamL4whpbm",
        "outputId": "c57c6ad4-6309-4d86-fb67-048024612f1e"
      },
      "outputs": [
        {
          "name": "stdout",
          "output_type": "stream",
          "text": [
            "正無窮大 / NaN:  nan\n"
          ]
        }
      ],
      "source": [
        "print(\"正無窮大 / NaN: \", pos_inf / not_a_num)"
      ]
    },
    {
      "cell_type": "markdown",
      "metadata": {
        "id": "vwhUGwcFhpbm"
      },
      "source": [
        "---\n",
        "## 計算順序 (Order of operations)\n",
        "\n",
        "- **優先規則 (Rules of precedence)**\n",
        "<ul style=\"line-height:2.5\">\n",
        "    <li>多個運算子 (Operator) 出現在一個 expression 裡面時</br>  \n",
        "        遵守<b>優先規則</b> (rules of precedence) <b>PEMDAS</b>\n",
        "    </li>\n",
        "</ul>"
      ]
    },
    {
      "cell_type": "markdown",
      "metadata": {
        "id": "6Cu8crtzhpbm"
      },
      "source": [
        "---\n",
        "#### PEMDAS\n",
        "<ul style=\"line-height:2.5\">\n",
        "    <li>括號 (<b>P</b>arentheses)：</br>\n",
        "     優先權 <b>最高</b>，可用於確保執行順序，也可用於增加易讀性\n",
        "</ul>"
      ]
    },
    {
      "cell_type": "code",
      "execution_count": null,
      "metadata": {
        "colab": {
          "base_uri": "https://localhost:8080/"
        },
        "id": "2LBC8fkMhpbm",
        "outputId": "9e949a23-cc61-4376-dd7c-44005e106f03"
      },
      "outputs": [
        {
          "name": "stdout",
          "output_type": "stream",
          "text": [
            "4\n",
            "5\n"
          ]
        }
      ],
      "source": [
        "a = 2 * (3 - 1)\n",
        "b = 2 * 3 - 1\n",
        "print(a)\n",
        "print(b)"
      ]
    },
    {
      "cell_type": "markdown",
      "metadata": {
        "id": "1pLmK-tvhpbm"
      },
      "source": [
        "- 次方 (**E**xponentiation)：第二優先權，比乘法更優先"
      ]
    },
    {
      "cell_type": "code",
      "execution_count": null,
      "metadata": {
        "colab": {
          "base_uri": "https://localhost:8080/"
        },
        "id": "T-C9EFO6hpbm",
        "outputId": "ae7b1abf-49b9-404b-ebc3-fa0ea495568a"
      },
      "outputs": [
        {
          "name": "stdout",
          "output_type": "stream",
          "text": [
            "3\n"
          ]
        }
      ],
      "source": [
        "c = 3 * 1 ** 3\n",
        "print(c)"
      ]
    },
    {
      "cell_type": "markdown",
      "metadata": {
        "id": "19qR_K1ihpbm"
      },
      "source": [
        "<ul style=\"line-height:2.5\">\n",
        "    <li>乘法 (<b>M</b>ultiplication), 除法 (<b>D</b>ivision)。</br>\n",
        "    優先於加法 (<b>A</b>ddition), 減法 (<b>S</b>ubstraction)\n",
        "    <li>有一樣優先權的話就從左到右計算</li>\n",
        "    <li>如果不確定優先權，可以用 <b>括號</b> 來確保計算順序正確</li>\n",
        "</ul>"
      ]
    },
    {
      "cell_type": "code",
      "execution_count": null,
      "metadata": {
        "colab": {
          "base_uri": "https://localhost:8080/"
        },
        "id": "XrWZwaE3hpbn",
        "outputId": "68b73b81-245b-4bad-c51b-a4e4e8a86a06"
      },
      "outputs": [
        {
          "name": "stdout",
          "output_type": "stream",
          "text": [
            "Answer 1:  480000.0\n",
            "Answer 2:  300.0\n"
          ]
        }
      ],
      "source": [
        "total_cost = 96000\n",
        "num_class = 8\n",
        "class_student = 40\n",
        "\n",
        "answer_1 = total_cost / num_class * class_student\n",
        "\n",
        "total_students = num_class * class_student\n",
        "answer_2 = total_cost / total_students\n",
        "\n",
        "print(\"Answer 1: \", answer_1)\n",
        "print(\"Answer 2: \", answer_2)"
      ]
    },
    {
      "cell_type": "markdown",
      "metadata": {
        "id": "8SMPgNEPhpbn"
      },
      "source": [
        "---\n",
        "## 字串操作 (String operations)\n",
        "\n",
        "<ul style=\"line-height:2.5\">\n",
        "    <li> +：串連（concatenation）</li>\n",
        "    <li> *：重複 (repetition)</li>\n",
        "</ul>"
      ]
    },
    {
      "cell_type": "code",
      "execution_count": null,
      "metadata": {
        "colab": {
          "base_uri": "https://localhost:8080/"
        },
        "id": "bQvWE_qLhpbn",
        "outputId": "03c94e90-68ee-4daa-e6dc-552e33e76ac2"
      },
      "outputs": [
        {
          "name": "stdout",
          "output_type": "stream",
          "text": [
            "Diane Cheng\n"
          ]
        }
      ],
      "source": [
        "First_name = \"Diane\"\n",
        "Last_name = \"Cheng\"\n",
        "\n",
        "full_name = First_name + \" \" + Last_name\n",
        "\n",
        "print(full_name)"
      ]
    },
    {
      "cell_type": "code",
      "execution_count": null,
      "metadata": {
        "colab": {
          "base_uri": "https://localhost:8080/"
        },
        "id": "7Wzq4Qh75aBD",
        "outputId": "9cf54a14-b946-4a11-dd2a-fc78deba3417"
      },
      "outputs": [
        {
          "data": {
            "text/plain": [
              "[1, 2, 3, 4]"
            ]
          },
          "execution_count": 7,
          "metadata": {},
          "output_type": "execute_result"
        }
      ],
      "source": [
        "[1,2] + [3,4]"
      ]
    },
    {
      "cell_type": "code",
      "execution_count": null,
      "metadata": {
        "colab": {
          "base_uri": "https://localhost:8080/"
        },
        "id": "phOiqKCohpbn",
        "outputId": "f02c59cf-9dff-4e43-85c2-163ce8a6911b"
      },
      "outputs": [
        {
          "name": "stdout",
          "output_type": "stream",
          "text": [
            "Fish:  blue...blue...blue...\n"
          ]
        }
      ],
      "source": [
        "Fish = \"blue...\"\n",
        "say = Fish * 3\n",
        "print(\"Fish: \", say)"
      ]
    },
    {
      "cell_type": "markdown",
      "metadata": {
        "id": "pel60m_Zhpbn"
      },
      "source": [
        "---"
      ]
    },
    {
      "cell_type": "markdown",
      "metadata": {
        "id": "kmBxHFC9hpbn"
      },
      "source": [
        "# Swap：交換兩變數的值"
      ]
    },
    {
      "cell_type": "markdown",
      "metadata": {
        "id": "qn5_wpWYhpbn"
      },
      "source": [
        "傳統做法：再宣告一個變數將值暫存"
      ]
    },
    {
      "cell_type": "code",
      "execution_count": null,
      "metadata": {
        "colab": {
          "base_uri": "https://localhost:8080/"
        },
        "id": "27s58rgyhpbn",
        "outputId": "a47987fc-862b-4aaa-f5cb-1fe97ea7721d"
      },
      "outputs": [
        {
          "name": "stdout",
          "output_type": "stream",
          "text": [
            "Hello World\n"
          ]
        }
      ],
      "source": [
        "a = \"Hello\"\n",
        "b = \"World\"\n",
        "print(a, b)"
      ]
    },
    {
      "cell_type": "code",
      "execution_count": null,
      "metadata": {
        "colab": {
          "base_uri": "https://localhost:8080/"
        },
        "id": "SQ7fvOdm50a3",
        "outputId": "032190c8-e6e5-4e7e-bec6-24957c85906d"
      },
      "outputs": [
        {
          "name": "stdout",
          "output_type": "stream",
          "text": [
            "World World\n"
          ]
        }
      ],
      "source": [
        "a = b\n",
        "b = a\n",
        "print(a,b)"
      ]
    },
    {
      "cell_type": "code",
      "execution_count": null,
      "metadata": {
        "id": "C22tYsoMhpbo"
      },
      "outputs": [],
      "source": [
        "temp = a\n",
        "a = b\n",
        "b = temp"
      ]
    },
    {
      "cell_type": "code",
      "execution_count": null,
      "metadata": {
        "colab": {
          "base_uri": "https://localhost:8080/"
        },
        "id": "j099XGn6hpbo",
        "outputId": "4bf7d0b9-9bed-4bee-8341-f408f73f521e"
      },
      "outputs": [
        {
          "name": "stdout",
          "output_type": "stream",
          "text": [
            "World World\n"
          ]
        }
      ],
      "source": [
        "print(a, b)"
      ]
    },
    {
      "cell_type": "markdown",
      "metadata": {
        "id": "2vbRmhn2hpbo"
      },
      "source": [
        "這個解決方案很麻煩，在python中我們可以優雅的使用`tuple assignment` ："
      ]
    },
    {
      "cell_type": "code",
      "execution_count": null,
      "metadata": {
        "id": "hxP9aIObhpbo"
      },
      "outputs": [],
      "source": [
        "a = \"Hello\"\n",
        "b = \"World\""
      ]
    },
    {
      "cell_type": "code",
      "execution_count": null,
      "metadata": {
        "id": "qvezjBiphpbo"
      },
      "outputs": [],
      "source": [
        "# tuple assignment\n",
        "a, b = b, a"
      ]
    },
    {
      "cell_type": "code",
      "execution_count": null,
      "metadata": {
        "colab": {
          "base_uri": "https://localhost:8080/"
        },
        "id": "bk6l0dyihpbo",
        "outputId": "69d48c02-6e1c-4a2c-b88d-e1022847951c"
      },
      "outputs": [
        {
          "name": "stdout",
          "output_type": "stream",
          "text": [
            "World Hello\n"
          ]
        }
      ],
      "source": [
        "print(a, b)"
      ]
    },
    {
      "cell_type": "markdown",
      "metadata": {
        "id": "yKhnwB_Ehpbo"
      },
      "source": [
        "左邊是variables, 右邊是expressions, 每個值(value)分配給各自的變數(variable)  \n",
        "左右兩邊的變數數量必須是相同的："
      ]
    },
    {
      "cell_type": "code",
      "execution_count": null,
      "metadata": {
        "id": "3ciLijDlhpbo"
      },
      "outputs": [],
      "source": [
        "a, b, c = 1, 2, 3"
      ]
    },
    {
      "cell_type": "markdown",
      "metadata": {
        "id": "UxsmzsBVhpbp"
      },
      "source": [
        "其實，tuple assignment 的右側可以是任何類型的 list（string, list or tuple)  \n",
        "例如，要將電子郵件地址拆分為用戶名和域，可以這樣寫："
      ]
    },
    {
      "cell_type": "code",
      "execution_count": null,
      "metadata": {
        "id": "EsVpWmuvhpbp"
      },
      "outputs": [],
      "source": [
        "addr = 'montypython.org@123.123.123'\n",
        "uname, domain = addr.split('@')"
      ]
    },
    {
      "cell_type": "code",
      "execution_count": null,
      "metadata": {
        "colab": {
          "base_uri": "https://localhost:8080/"
        },
        "id": "lx4NZlBZhpbp",
        "outputId": "2a4d2102-1b3e-4bcf-eee8-556734329e88"
      },
      "outputs": [
        {
          "name": "stdout",
          "output_type": "stream",
          "text": [
            "montypython.org\n"
          ]
        }
      ],
      "source": [
        "print(uname)"
      ]
    },
    {
      "cell_type": "code",
      "execution_count": null,
      "metadata": {
        "colab": {
          "base_uri": "https://localhost:8080/"
        },
        "id": "oMj7_MpVhpbp",
        "outputId": "8e3bf5e9-9bff-48eb-bd8d-952c8d73e6f9"
      },
      "outputs": [
        {
          "name": "stdout",
          "output_type": "stream",
          "text": [
            "123.123.123\n"
          ]
        }
      ],
      "source": [
        "print(domain)"
      ]
    },
    {
      "cell_type": "markdown",
      "metadata": {
        "id": "8QWAo3BXhpbp"
      },
      "source": [
        "split() 的返回值是一個包含兩個元素的 list； 第一個元素分配給 uname，第二個元素分配給 domain"
      ]
    },
    {
      "cell_type": "code",
      "execution_count": null,
      "metadata": {
        "colab": {
          "base_uri": "https://localhost:8080/"
        },
        "id": "5j83Iq8Ohpbp",
        "outputId": "bb707c64-4eb1-4191-993a-efe843b1884e"
      },
      "outputs": [
        {
          "name": "stdout",
          "output_type": "stream",
          "text": [
            "['montypython.org', '123.123.123']\n"
          ]
        }
      ],
      "source": [
        "print(addr.split('@'))"
      ]
    },
    {
      "cell_type": "markdown",
      "metadata": {
        "id": "P9mc3az3hpbp"
      },
      "source": [
        "---\n",
        "## 註解跟除錯 (Commands & Debugging)\n",
        "\n",
        "- 用來說明該行、該段程式碼的**目的**，而非說明程式碼本身行為\n",
        "- 是給人類看，不是給機器看的\n",
        "- 語法：\\# Comments"
      ]
    },
    {
      "cell_type": "code",
      "execution_count": null,
      "metadata": {
        "colab": {
          "base_uri": "https://localhost:8080/"
        },
        "id": "IwckaACQhpbp",
        "outputId": "8310bf19-3d67-47fd-b0cd-13ccfb71e3c7"
      },
      "outputs": [
        {
          "name": "stdout",
          "output_type": "stream",
          "text": [
            "average:  77.5\n"
          ]
        }
      ],
      "source": [
        "num_suject = 2\n",
        "Chinese = 85\n",
        "Math = 70\n",
        "\n",
        "# 比較不好的註解: 把中文跟數學成績相加，之後再除以 2\n",
        "# 比較好的註解: 計算科目的平均分數\n",
        "\n",
        "average = (Chinese + Math) / num_suject\n",
        "\n",
        "print(\"average: \", average)"
      ]
    },
    {
      "cell_type": "code",
      "execution_count": null,
      "metadata": {
        "colab": {
          "base_uri": "https://localhost:8080/"
        },
        "id": "q4B9PRf8hpbq",
        "outputId": "a77a30d3-a7ab-4510-c9fa-76b9a8b78a44"
      },
      "outputs": [
        {
          "name": "stdout",
          "output_type": "stream",
          "text": [
            "1\n"
          ]
        }
      ],
      "source": [
        "# Error type: invalid syntax\n",
        "# Chinese_score = 1\n",
        "print(Chinese_score)"
      ]
    },
    {
      "cell_type": "code",
      "execution_count": null,
      "metadata": {
        "id": "ZFhjDwwmhpbq"
      },
      "outputs": [],
      "source": [
        "# Error type: name \"...\" is not defined\n",
        "principal = 327.68\n",
        "interest = principle * rate"
      ]
    },
    {
      "cell_type": "code",
      "execution_count": null,
      "metadata": {
        "colab": {
          "base_uri": "https://localhost:8080/"
        },
        "id": "51WisUJ5hpbq",
        "outputId": "8ec9e5b9-5717-4e5d-82f7-ec202ea4fc70"
      },
      "outputs": [
        {
          "name": "stdout",
          "output_type": "stream",
          "text": [
            "1.5707963\n"
          ]
        }
      ],
      "source": [
        "# Logical Error\n",
        "pi = 3.1415926\n",
        "\n",
        "wrong_answer = 1 / 2 * pi\n",
        "print(wrong_answer)\n",
        "# right_answer = ?\n",
        "# print(right_answer)"
      ]
    },
    {
      "cell_type": "markdown",
      "metadata": {
        "id": "CRLB9Ncvhpbq"
      },
      "source": [
        "---\n",
        "## 練習(一) Practice 1 (10 mins)\n",
        "\n",
        "TODO:\n",
        "1. 首先，計算出每個飲料、甜點的價格\n",
        "2. 分別計算出 Simon 跟 Joanna 所花費的金額是多少？  \n",
        "3. 最後，計算平均每個人花費多少金額"
      ]
    },
    {
      "cell_type": "code",
      "execution_count": null,
      "metadata": {
        "id": "2Jys2vFyhpbq"
      },
      "outputs": [],
      "source": [
        "# TODO 第一題\n",
        "\n",
        "# (1) 珍奶價格為 5 的 5 次方，再被 123 整除, 再乘 2\n",
        "\n",
        "# (2) 抹茶蛋糕價格為 150 除以 2 加 25 除以 20 的餘數\n",
        "\n",
        "\n",
        "# 一片巧克力餅乾 $ 20\n",
        "# 一次買 3 片巧克力餅乾 $ 50\n",
        "\n",
        "\n",
        "# 檸檬蛋糕 $ 75\n",
        "\n",
        "\n",
        "# 可麗露 $ 55\n"
      ]
    },
    {
      "cell_type": "code",
      "execution_count": null,
      "metadata": {
        "id": "4TXKVFHwhpbq"
      },
      "outputs": [],
      "source": [
        "# Simon: 兩杯珍奶, 抹茶蛋糕跟可麗露各一個\n",
        "bubble=(pow(5, 5)//123)*2\n",
        "cake=150//2+25%20"
      ]
    },
    {
      "cell_type": "code",
      "execution_count": null,
      "metadata": {
        "id": "7dak97ywhpbq"
      },
      "outputs": [],
      "source": [
        "# Joanna: 鮮奶茶一杯, 3 片巧克力餅乾, 檸檬蛋糕 2 個\n"
      ]
    },
    {
      "cell_type": "code",
      "execution_count": null,
      "metadata": {
        "id": "_buKsjqLbczB"
      },
      "outputs": [],
      "source": [
        "# 總花費\n"
      ]
    },
    {
      "cell_type": "code",
      "execution_count": null,
      "metadata": {
        "id": "T0s4M_VNhpbq"
      },
      "outputs": [],
      "source": [
        "# 平均花費\n"
      ]
    },
    {
      "cell_type": "markdown",
      "metadata": {
        "id": "1uLDZWPrfCgQ"
      },
      "source": [
        "## 進階題"
      ]
    },
    {
      "cell_type": "markdown",
      "metadata": {
        "id": "m6LnMJzBfCgQ"
      },
      "source": [
        "請使用者猜一個介於範圍（例如 1 到 50）之間的數字，若使用者猜錯，就詢問他們想繼續玩還是退出；若使用者猜對，就顯示祝賀訊息，並統計使用者的嘗試次數。如果使用者輸入的數字超出設定範圍，就顯示錯誤提示。"
      ]
    },
    {
      "cell_type": "code",
      "execution_count": null,
      "metadata": {
        "id": "P3TTZ83PPzpI"
      },
      "outputs": [],
      "source": []
    }
  ],
  "metadata": {
    "colab": {
      "collapsed_sections": [
        "PQrTpdR3hpba",
        "oGKhrqQ_hpbg",
        "RWbn8DAxhpbj",
        "TO9489Vehpbl",
        "vwhUGwcFhpbm",
        "6Cu8crtzhpbm",
        "8SMPgNEPhpbn"
      ],
      "provenance": [],
      "include_colab_link": true
    },
    "kernelspec": {
      "display_name": "Python 3",
      "language": "python",
      "name": "python3"
    },
    "language_info": {
      "codemirror_mode": {
        "name": "ipython",
        "version": 3
      },
      "file_extension": ".py",
      "mimetype": "text/x-python",
      "name": "python",
      "nbconvert_exporter": "python",
      "pygments_lexer": "ipython3",
      "version": "3.9.6"
    }
  },
  "nbformat": 4,
  "nbformat_minor": 0
}